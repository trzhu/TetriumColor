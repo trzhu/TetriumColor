{
 "cells": [
  {
   "cell_type": "code",
   "execution_count": null,
   "id": "362b28c0",
   "metadata": {},
   "outputs": [],
   "source": [
    "import tetrapolyscope as ps\n",
    "import interactive_polyscope\n",
    "from IPython.display import Image, display, HTML\n",
    "\n",
    "%gui polyscope"
   ]
  },
  {
   "cell_type": "code",
   "execution_count": null,
   "id": "7256b089",
   "metadata": {},
   "outputs": [],
   "source": [
    "import csv\n",
    "import numpy as np\n",
    "import matplotlib.pyplot as plt\n",
    "import numpy.typing as npt\n",
    "\n",
    "import pandas as pd"
   ]
  },
  {
   "cell_type": "code",
   "execution_count": null,
   "id": "9f1a3cc8",
   "metadata": {},
   "outputs": [],
   "source": [
    "from TetriumColor.Observer import Observer, Cone, Neugebauer, InkGamut, CellNeugebauer, Pigment, Spectra, Illuminant, InkLibrary, load_neugebauer\n",
    "import TetriumColor.Visualization as viz\n",
    "from TetriumColor import ColorSpace, ColorSpaceType, PolyscopeDisplayType"
   ]
  },
  {
   "cell_type": "code",
   "execution_count": null,
   "id": "f8be8a77",
   "metadata": {},
   "outputs": [],
   "source": [
    "%load_ext autoreload\n",
    "%autoreload 2"
   ]
  },
  {
   "cell_type": "code",
   "execution_count": null,
   "id": "781d2e68",
   "metadata": {},
   "outputs": [],
   "source": [
    "screenshot_count = 0\n",
    "! mkdir -p screenshots\n",
    "def save_ps_screenshot():\n",
    "    global screenshot_count\n",
    "    ps.show()  # renders window\n",
    "    fname = f\"screenshots/screenshot_{screenshot_count}.png\"\n",
    "    ps.screenshot(fname)\n",
    "    # Display in notebook\n",
    "    display(Image(filename=fname, width=400)) # need to use this for pdf export\n",
    "    # display(HTML(f'<img src=\"screenshot_{screenshot_count}.png\" style=\"width:50%;\">'))\n",
    "\n",
    "    screenshot_count += 1"
   ]
  },
  {
   "cell_type": "code",
   "execution_count": null,
   "id": "5fd89be1",
   "metadata": {},
   "outputs": [],
   "source": [
    "def save_top_inks_as_csv(top_volumes, filename):\n",
    "    import csv\n",
    "\n",
    "    # Save top_volumes_all_fp_inks to a CSV file\n",
    "    with open(filename, \"w\", newline=\"\") as csvfile:\n",
    "        writer = csv.writer(csvfile)\n",
    "        writer.writerow([\"Volume\", \"Ink Combination\"])  # Header\n",
    "        for volume, inks in top_volumes:\n",
    "            writer.writerow([volume, \", \".join(inks)])  # Write volume and ink combination\n",
    "\n",
    "def load_top_inks(filename):\n",
    "    top_volumes = []\n",
    "    with open(filename, \"r\") as csvfile:\n",
    "        reader = csv.reader(csvfile)\n",
    "        next(reader)  # Skip header\n",
    "        for row in reader:\n",
    "            volume = float(row[0])\n",
    "            inks = row[1].split(\", \")\n",
    "            top_volumes.append((volume, inks))\n",
    "    return top_volumes"
   ]
  },
  {
   "cell_type": "code",
   "execution_count": null,
   "id": "d6897199",
   "metadata": {},
   "outputs": [],
   "source": [
    "from colorsys import rgb_to_hsv\n",
    "import math\n",
    "\n",
    "def plot_inks_by_hue(ink_dataset, wavelengths):\n",
    "    \"\"\"\n",
    "    Plots the inks in the dataset sorted by hue.\n",
    "\n",
    "    Parameters:\n",
    "    - ink_dataset: dict, a dictionary of ink names and their corresponding Spectra objects.\n",
    "    - wavelengths: numpy.ndarray, array of wavelengths corresponding to the spectra data.\n",
    "    \"\"\"\n",
    "    # Convert RGB to HSV and sort by hue\n",
    "    def get_hue(spectra):\n",
    "        r, g, b = spectra.to_rgb()\n",
    "        h, _, _ = rgb_to_hsv(r, g, b)\n",
    "        return h\n",
    "\n",
    "    # Sort inks by hue\n",
    "    sorted_inks = sorted(ink_dataset.items(), key=lambda item: get_hue(item[1]))\n",
    "\n",
    "    # Plot sorted inks row by row by hue\n",
    "    num_inks = len(sorted_inks)\n",
    "    cols = math.ceil(math.sqrt(num_inks))\n",
    "    rows = math.ceil(num_inks / cols)\n",
    "\n",
    "    plt.figure(figsize=(15, 15))\n",
    "\n",
    "    for idx, (name, spectra) in enumerate(sorted_inks):\n",
    "        plt.subplot(rows, cols, idx + 1)\n",
    "        plt.plot(wavelengths, spectra.data, c=spectra.to_rgb())\n",
    "        plt.title(name[:10], fontsize=8)  # Show only the first 10 characters of the name\n",
    "        plt.xlabel(\"Wavelength (nm)\", fontsize=6)\n",
    "        plt.ylabel(\"Reflectance\", fontsize=6)\n",
    "        plt.grid(True)\n",
    "        plt.xlim(wavelengths[0], wavelengths[-1])\n",
    "        plt.ylim(0, 1)\n",
    "        plt.tick_params(axis='both', which='major', labelsize=6)\n",
    "\n",
    "    plt.tight_layout()\n",
    "    plt.show()\n",
    "\n",
    "\n",
    "def show_top_k_combinations(top_volumes, inkset,  k=10):\n",
    "    \"\"\"\n",
    "    Displays the top k ink combinations with their volumes.\n",
    "    \n",
    "    Parameters:\n",
    "    - top_volumes: list of tuples (volume, [ink names])\n",
    "    - k: number of top combinations to display\n",
    "    \"\"\"\n",
    "    # Plot the spectra of the top inks for the first k entries\n",
    "    plt.figure(figsize=(10, 10))\n",
    "\n",
    "    for idx, (volume, ink_names) in enumerate(top_volumes[:k]):\n",
    "        plt.subplot(math.ceil(k / 4), 4, idx + 1)  # Create a subplot for each entry\n",
    "        for ink_name in ink_names:  # Plot the spectra of the first 4 inks\n",
    "            spectra = inkset[ink_name]\n",
    "            plt.plot(wavelengths, spectra.data, label=ink_name[:10], c=spectra.to_rgb())  # Show only the first 10 characters of the name\n",
    "        plt.title(f\"Volume: {volume:.2e}\", fontsize=10)\n",
    "        plt.xlabel(\"Wavelength (nm)\", fontsize=8)\n",
    "        plt.ylabel(\"Reflectance\", fontsize=8)\n",
    "        plt.grid(True)\n",
    "        plt.xlim(wavelengths[0], wavelengths[-1])\n",
    "        plt.ylim(0, 1)\n",
    "        plt.legend(fontsize=6)\n",
    "        plt.tick_params(axis='both', which='major', labelsize=6)\n",
    "\n",
    "    plt.tight_layout()\n",
    "    plt.show()\n"
   ]
  },
  {
   "cell_type": "markdown",
   "id": "9df89c9b",
   "metadata": {},
   "source": [
    "### Load FP Inkset"
   ]
  },
  {
   "cell_type": "code",
   "execution_count": null,
   "id": "5f474af8",
   "metadata": {},
   "outputs": [],
   "source": [
    " ### Analyze our 100 ink gamut ###\n",
    "    # Load the CSV data\n",
    "data_path = \"../../data/pantone/pantone-inks.csv\"\n",
    "df = pd.read_csv(data_path)\n",
    "\n",
    "spectras = df.iloc[:, 2:].to_numpy()  # Extract reflectance data\n",
    "wavelengths = np.arange(400, 701, 10)  # Wavelengths from 400 to 700 nm in steps of 10 nm\n",
    "# Create Spectra objects for each ink\n",
    "all_fp_inks = {}\n",
    "for i in range(spectras.shape[0]):\n",
    "    name = \"\".join([str(df.iloc[i, j]) for j in range(1, 2)])\n",
    "    all_fp_inks[name] = Spectra(data=spectras[i], wavelengths=wavelengths)\n",
    "\n",
    "fp_paper = all_fp_inks.popitem()[1]  # last"
   ]
  },
  {
   "cell_type": "code",
   "execution_count": null,
   "id": "5ae63b8c",
   "metadata": {},
   "outputs": [],
   "source": [
    "fp_paper.plot()"
   ]
  },
  {
   "cell_type": "code",
   "execution_count": null,
   "id": "60489c0b",
   "metadata": {},
   "outputs": [],
   "source": [
    "plot_inks_by_hue(all_fp_inks, wavelengths)"
   ]
  },
  {
   "cell_type": "markdown",
   "id": "717728e4",
   "metadata": {},
   "source": [
    "## Observer analysis (tetrachromat)"
   ]
  },
  {
   "cell_type": "code",
   "execution_count": null,
   "id": "e3248226",
   "metadata": {},
   "outputs": [],
   "source": [
    "# Define observer and illuminant\n",
    "d65 = Illuminant.get(\"d65\")\n",
    "tetrachromat = Observer.tetrachromat(illuminant=d65, wavelengths=wavelengths)"
   ]
  },
  {
   "cell_type": "code",
   "execution_count": null,
   "id": "f4403432",
   "metadata": {},
   "outputs": [],
   "source": [
    " # Initialize the ink library|\n",
    "fp_library = InkLibrary(all_fp_inks, fp_paper)"
   ]
  },
  {
   "cell_type": "code",
   "execution_count": null,
   "id": "bc040ca3",
   "metadata": {},
   "outputs": [],
   "source": [
    "# Perform convex hull search\n",
    "top_volumes_all_inks = fp_library.convex_hull_search(tetrachromat, d65)\n",
    "save_top_inks_as_csv(top_volumes_all_inks, \"./ink-combos/top_pantone_ink_combinations_ours.csv\")\n",
    "top_volumes_all_inks = load_top_inks(\"./ink-combos/top_pantone_ink_combinations_ours.csv\")\n"
   ]
  },
  {
   "cell_type": "code",
   "execution_count": null,
   "id": "9de1bab2",
   "metadata": {},
   "outputs": [],
   "source": [
    "top_volumes_5_all_fp_inks = fp_library.convex_hull_search(tetrachromat, d65, k=5)\n",
    "save_top_inks_as_csv(top_volumes_5_all_fp_inks, \"./ink-combos/top_volumes_5_all_fp_inks.csv\")"
   ]
  },
  {
   "cell_type": "code",
   "execution_count": null,
   "id": "7760b0f9",
   "metadata": {},
   "outputs": [],
   "source": [
    "show_top_k_combinations(top_volumes_5_all_fp_inks, all_fp_inks, k=16)"
   ]
  },
  {
   "cell_type": "code",
   "execution_count": null,
   "id": "2f5f02ac",
   "metadata": {},
   "outputs": [],
   "source": [
    "show_top_k_combinations(top_volumes_all_inks, all_fp_inks, k=16)"
   ]
  },
  {
   "cell_type": "code",
   "execution_count": null,
   "id": "be195f3c",
   "metadata": {},
   "outputs": [],
   "source": [
    "best4 = [all_fp_inks[ink_name] for ink_name in top_volumes_all_inks[0][1]]"
   ]
  },
  {
   "cell_type": "code",
   "execution_count": null,
   "id": "afdcfe31",
   "metadata": {},
   "outputs": [],
   "source": [
    "fp_gamut = InkGamut(best4, fp_paper, d65)\n",
    "fp_point_cloud, fp_percentages = fp_gamut.get_point_cloud(tetrachromat)"
   ]
  },
  {
   "cell_type": "code",
   "execution_count": null,
   "id": "b771f845",
   "metadata": {},
   "outputs": [],
   "source": [
    "cs = ColorSpace(tetrachromat)"
   ]
  },
  {
   "cell_type": "code",
   "execution_count": null,
   "id": "fa085155",
   "metadata": {},
   "outputs": [],
   "source": [
    "all_inks_as_points = tetrachromat.observe_spectras(all_fp_inks.values())\n",
    "all_inks_point_cloud = cs.convert(all_inks_as_points, ColorSpaceType.CONE, ColorSpaceType.HERING)[:, 1:]\n",
    "all_inks_srgbs = cs.convert(all_inks_as_points, ColorSpaceType.CONE, ColorSpaceType.SRGB)"
   ]
  },
  {
   "cell_type": "code",
   "execution_count": null,
   "id": "cfd03260",
   "metadata": {},
   "outputs": [],
   "source": [
    "ps.init()\n",
    "ps.set_always_redraw(False)\n",
    "ps.set_ground_plane_mode('shadow_only')\n",
    "ps.set_SSAA_factor(2)\n",
    "ps.set_window_size(720, 720)\n",
    "factor = 0.1575  # 0.1/5.25\n",
    "viz.ps.set_background_color((factor, factor, factor, 1))\n",
    "\n",
    "viz.RenderOBS(\"observer\", cs, PolyscopeDisplayType.HERING_MAXBASIS, num_samples=1000)\n",
    "viz.ps.get_surface_mesh(\"observer\").set_transparency(0.3)\n",
    "\n",
    "viz.RenderPointCloud(\"fp_points\", cs.convert(fp_point_cloud, ColorSpaceType.CONE, ColorSpaceType.HERING)[:, 1:])\n",
    "viz.RenderPointCloud(\"all_fps\", all_inks_point_cloud, all_inks_srgbs)\n",
    "viz.RenderMetamericDirection(\"meta_dir\", tetrachromat, PolyscopeDisplayType.HERING_MAXBASIS, 2,\n",
    "                                 np.array([0, 0, 0]), radius=0.005, scale=1.2)\n",
    "viz.ps.show()"
   ]
  },
  {
   "cell_type": "code",
   "execution_count": null,
   "id": "9dfbc8b6",
   "metadata": {},
   "outputs": [],
   "source": [
    "viz.ps.unshow()"
   ]
  },
  {
   "cell_type": "code",
   "execution_count": null,
   "id": "bbc1e423",
   "metadata": {},
   "outputs": [],
   "source": [
    "save_ps_screenshot()"
   ]
  },
  {
   "cell_type": "code",
   "execution_count": null,
   "id": "64db26ec",
   "metadata": {},
   "outputs": [],
   "source": [
    "save_ps_screenshot()"
   ]
  },
  {
   "cell_type": "code",
   "execution_count": null,
   "id": "ea8e5f28",
   "metadata": {},
   "outputs": [],
   "source": [
    "save_ps_screenshot()"
   ]
  }
 ],
 "metadata": {
  "kernelspec": {
   "display_name": "chromalab",
   "language": "python",
   "name": "python3"
  },
  "language_info": {
   "codemirror_mode": {
    "name": "ipython",
    "version": 3
   },
   "file_extension": ".py",
   "mimetype": "text/x-python",
   "name": "python",
   "nbconvert_exporter": "python",
   "pygments_lexer": "ipython3",
   "version": "3.11.9"
  }
 },
 "nbformat": 4,
 "nbformat_minor": 5
}
